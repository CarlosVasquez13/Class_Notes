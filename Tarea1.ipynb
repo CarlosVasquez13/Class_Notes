{
 "cells": [
  {
   "cell_type": "code",
   "execution_count": 2,
   "id": "fd87963f-11d6-4996-8553-709f20e8a074",
   "metadata": {},
   "outputs": [],
   "source": [
    "import pandas as pd\n",
    "import numpy as py\n",
    "import os\n"
   ]
  },
  {
   "cell_type": "code",
   "execution_count": 141,
   "id": "01c9667c-47f0-4c33-a2c6-a02fab7760bd",
   "metadata": {},
   "outputs": [],
   "source": [
    "# cargar dataframe desde csv  titanic.csv\n",
    "#df_titanic = pd.read_csv('titanic.csv')\n",
    "df_nombres = pd.read_csv('nombres.csv')"
   ]
  },
  {
   "cell_type": "code",
   "execution_count": 7,
   "id": "337d15ce-f3d2-4947-84c2-415132e7360a",
   "metadata": {},
   "outputs": [],
   "source": [
    "#df_titanic.loc[df_titanic['Age'].isnull(), 'Age'] = df_titanic['Age'].mean()\n",
    "#print(df_titanic.isnull().sum())\n",
    "#df_titanic.loc[df_titanic.Embarked.isnull(), 'Embarked'] = df_titanic.Embarked.mode()[0]"
   ]
  },
  {
   "cell_type": "code",
   "execution_count": 22,
   "id": "7c147efa-405f-4a59-8978-afa6d75e4cb9",
   "metadata": {},
   "outputs": [],
   "source": [
    "#df_nombres.describe()"
   ]
  },
  {
   "cell_type": "code",
   "execution_count": 107,
   "id": "e612e6ff-52d4-4bbc-8d6e-506e37cf48d9",
   "metadata": {},
   "outputs": [],
   "source": [
    "#####Año con mayor cantidad de registros de Helen.\n",
    "df_helen = df_nombres[df_nombres['name'] == 'Helen']\n"
   ]
  },
  {
   "cell_type": "code",
   "execution_count": 105,
   "id": "e2390521",
   "metadata": {},
   "outputs": [
    {
     "data": {
      "text/html": [
       "<div>\n",
       "<style scoped>\n",
       "    .dataframe tbody tr th:only-of-type {\n",
       "        vertical-align: middle;\n",
       "    }\n",
       "\n",
       "    .dataframe tbody tr th {\n",
       "        vertical-align: top;\n",
       "    }\n",
       "\n",
       "    .dataframe thead th {\n",
       "        text-align: right;\n",
       "    }\n",
       "</style>\n",
       "<table border=\"1\" class=\"dataframe\">\n",
       "  <thead>\n",
       "    <tr style=\"text-align: right;\">\n",
       "      <th></th>\n",
       "      <th>year</th>\n",
       "      <th>quantity</th>\n",
       "    </tr>\n",
       "  </thead>\n",
       "  <tbody>\n",
       "    <tr>\n",
       "      <th>8</th>\n",
       "      <td>1918</td>\n",
       "      <td>36184</td>\n",
       "    </tr>\n",
       "  </tbody>\n",
       "</table>\n",
       "</div>"
      ],
      "text/plain": [
       "   year  quantity\n",
       "8  1918     36184"
      ]
     },
     "execution_count": 105,
     "metadata": {},
     "output_type": "execute_result"
    }
   ],
   "source": [
    "df_helen_group = df_helen.groupby('year')['quantity'].sum().reset_index()\n",
    "helenYearMin = df_helen_group.sort_values(by='quantity', ascending=True).head(1)\n",
    "helenYearMax = df_helen_group.sort_values(by='quantity', ascending=False).head(1)\n",
    "helenYearMax"
   ]
  },
  {
   "cell_type": "code",
   "execution_count": 109,
   "id": "ee81a8da-f206-48e6-a19d-7d0e5cfa45fe",
   "metadata": {},
   "outputs": [
    {
     "data": {
      "text/html": [
       "<div>\n",
       "<style scoped>\n",
       "    .dataframe tbody tr th:only-of-type {\n",
       "        vertical-align: middle;\n",
       "    }\n",
       "\n",
       "    .dataframe tbody tr th {\n",
       "        vertical-align: top;\n",
       "    }\n",
       "\n",
       "    .dataframe thead th {\n",
       "        text-align: right;\n",
       "    }\n",
       "</style>\n",
       "<table border=\"1\" class=\"dataframe\">\n",
       "  <thead>\n",
       "    <tr style=\"text-align: right;\">\n",
       "      <th></th>\n",
       "      <th>year</th>\n",
       "      <th>quantity</th>\n",
       "    </tr>\n",
       "  </thead>\n",
       "  <tbody>\n",
       "    <tr>\n",
       "      <th>8</th>\n",
       "      <td>1918</td>\n",
       "      <td>36184</td>\n",
       "    </tr>\n",
       "  </tbody>\n",
       "</table>\n",
       "</div>"
      ],
      "text/plain": [
       "   year  quantity\n",
       "8  1918     36184"
      ]
     },
     "execution_count": 109,
     "metadata": {},
     "output_type": "execute_result"
    }
   ],
   "source": [
    "\n",
    "#print(df_nombres[(df_nombres['name'] == 'Helen') & (df_nombres['year'] == 2016)])\n",
    "#####Año con mayor cantidad de registros de Helen.\n",
    "helenYearMax"
   ]
  },
  {
   "cell_type": "code",
   "execution_count": 113,
   "id": "bad1b0a9-2290-4e08-9a58-11f20745ba69",
   "metadata": {},
   "outputs": [
    {
     "data": {
      "text/html": [
       "<div>\n",
       "<style scoped>\n",
       "    .dataframe tbody tr th:only-of-type {\n",
       "        vertical-align: middle;\n",
       "    }\n",
       "\n",
       "    .dataframe tbody tr th {\n",
       "        vertical-align: top;\n",
       "    }\n",
       "\n",
       "    .dataframe thead th {\n",
       "        text-align: right;\n",
       "    }\n",
       "</style>\n",
       "<table border=\"1\" class=\"dataframe\">\n",
       "  <thead>\n",
       "    <tr style=\"text-align: right;\">\n",
       "      <th></th>\n",
       "      <th>year</th>\n",
       "      <th>quantity</th>\n",
       "    </tr>\n",
       "  </thead>\n",
       "  <tbody>\n",
       "    <tr>\n",
       "      <th>100</th>\n",
       "      <td>2010</td>\n",
       "      <td>667</td>\n",
       "    </tr>\n",
       "  </tbody>\n",
       "</table>\n",
       "</div>"
      ],
      "text/plain": [
       "     year  quantity\n",
       "100  2010       667"
      ]
     },
     "execution_count": 113,
     "metadata": {},
     "output_type": "execute_result"
    }
   ],
   "source": [
    "#Año con menor cantidad de Helen\n",
    "helenYearMin"
   ]
  },
  {
   "cell_type": "code",
   "execution_count": 151,
   "id": "b7febfea-d8d3-416e-8eb2-d242bf990a9e",
   "metadata": {},
   "outputs": [
    {
     "data": {
      "text/plain": [
       "8892"
      ]
     },
     "execution_count": 151,
     "metadata": {},
     "output_type": "execute_result"
    }
   ],
   "source": [
    "#Cuantos Helen nacieron entre 1990 y 2000\n",
    "hele_1990_2000 = df_helen_group[df_helen_group['year'].between(1990, 2000)]['quantity'].sum()\n",
    "hele_1990_2000\n"
   ]
  },
  {
   "cell_type": "code",
   "execution_count": 163,
   "id": "6c4f84d8-93dc-46b2-87df-f49f18537817",
   "metadata": {},
   "outputs": [
    {
     "data": {
      "text/plain": [
       "10726"
      ]
     },
     "execution_count": 163,
     "metadata": {},
     "output_type": "execute_result"
    }
   ],
   "source": [
    "#En que año nacieron mas Helen en el estado de Florida.\n",
    "helenFlorida = df_helen[df_helen['state'] == 'FL']['quantity'].sum()\n",
    "helenFlorida"
   ]
  }
 ],
 "metadata": {
  "kernelspec": {
   "display_name": "Python 3 (ipykernel)",
   "language": "python",
   "name": "python3"
  },
  "language_info": {
   "codemirror_mode": {
    "name": "ipython",
    "version": 3
   },
   "file_extension": ".py",
   "mimetype": "text/x-python",
   "name": "python",
   "nbconvert_exporter": "python",
   "pygments_lexer": "ipython3",
   "version": "3.11.7"
  }
 },
 "nbformat": 4,
 "nbformat_minor": 5
}
