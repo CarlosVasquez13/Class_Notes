{
 "cells": [
  {
   "cell_type": "code",
   "execution_count": 3,
   "metadata": {},
   "outputs": [],
   "source": [
    "import pandas as pd\n",
    "from sklearn.preprocessing import LabelEncoder"
   ]
  },
  {
   "cell_type": "code",
   "execution_count": 5,
   "metadata": {},
   "outputs": [],
   "source": [
    "df = pd.DataFrame({\n",
    "    'nombre': ['Auto1', 'Auto2', 'Auto3', 'Auto4', 'Auto5'],\n",
    "    'marca': ['Toyota', 'Ford', 'Toyota', 'BMW', 'Honda']\n",
    "})\n"
   ]
  },
  {
   "cell_type": "code",
   "execution_count": 7,
   "metadata": {},
   "outputs": [
    {
     "name": "stdout",
     "output_type": "stream",
     "text": [
      "  nombre  marca  marca_codificada\n",
      "0  Auto1      3                 3\n",
      "1  Auto2      1                 1\n",
      "2  Auto3      3                 3\n",
      "3  Auto4      0                 0\n",
      "4  Auto5      2                 2\n"
     ]
    }
   ],
   "source": [
    "codificador = LabelEncoder()\n",
    "df['marca_codificada'] = codificador.fit_transform(df['marca'])\n",
    "df['marca'] = codificador.fit_transform(df['marca'])\n",
    "\n",
    "print(df)"
   ]
  }
 ],
 "metadata": {
  "kernelspec": {
   "display_name": "base",
   "language": "python",
   "name": "python3"
  },
  "language_info": {
   "codemirror_mode": {
    "name": "ipython",
    "version": 3
   },
   "file_extension": ".py",
   "mimetype": "text/x-python",
   "name": "python",
   "nbconvert_exporter": "python",
   "pygments_lexer": "ipython3",
   "version": "3.11.7"
  }
 },
 "nbformat": 4,
 "nbformat_minor": 2
}
