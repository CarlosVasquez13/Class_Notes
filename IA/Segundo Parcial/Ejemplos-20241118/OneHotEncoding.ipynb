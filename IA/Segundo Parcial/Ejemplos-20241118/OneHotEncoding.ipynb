{
 "cells": [
  {
   "cell_type": "code",
   "execution_count": 31,
   "id": "37448693-d658-4285-a8ad-51fbea42c573",
   "metadata": {
    "scrolled": true
   },
   "outputs": [
    {
     "name": "stdout",
     "output_type": "stream",
     "text": [
      "  nombre  nivel  edad\n",
      "0   Juan   alto    23\n",
      "1    Ana  medio    25\n",
      "2  Pedro   bajo    35\n",
      "3  Laura  medio    29\n",
      "  nombre  edad  nivel_alto  nivel_bajo  nivel_medio\n",
      "0   Juan    23           1           0            0\n",
      "1    Ana    25           0           0            1\n",
      "2  Pedro    35           0           1            0\n",
      "3  Laura    29           0           0            1\n"
     ]
    }
   ],
   "source": [
    "import pandas as pd\n",
    "\n",
    "df = pd.DataFrame({\n",
    "    'nombre': ['Juan', 'Ana', 'Pedro', 'Laura'],\n",
    "    'nivel': ['alto', 'medio', 'bajo', 'medio'],\n",
    "    'edad': [23, 25, 35, 29]\n",
    "})\n",
    "\n",
    "\n",
    "print(df)\n",
    "\n",
    "\n",
    "df_encoded = pd.get_dummies(df, columns=['nivel'], dtype=int)\n",
    "#df_encoded = pd.get_dummies(df['nivel']).astype(int)\n",
    "print(df_encoded)\n"
   ]
  },
  {
   "cell_type": "code",
   "execution_count": null,
   "id": "255c0605-7a49-4a5c-ae2b-5dc7b3d57848",
   "metadata": {},
   "outputs": [],
   "source": []
  }
 ],
 "metadata": {
  "kernelspec": {
   "display_name": "Python 3 (ipykernel)",
   "language": "python",
   "name": "python3"
  },
  "language_info": {
   "codemirror_mode": {
    "name": "ipython",
    "version": 3
   },
   "file_extension": ".py",
   "mimetype": "text/x-python",
   "name": "python",
   "nbconvert_exporter": "python",
   "pygments_lexer": "ipython3",
   "version": "3.12.4"
  }
 },
 "nbformat": 4,
 "nbformat_minor": 5
}
