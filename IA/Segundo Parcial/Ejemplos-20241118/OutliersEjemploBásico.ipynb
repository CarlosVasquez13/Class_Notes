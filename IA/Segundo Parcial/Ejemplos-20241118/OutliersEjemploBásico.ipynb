{
 "cells": [
  {
   "cell_type": "code",
   "execution_count": 1,
   "id": "cc8c064a-c3d2-4130-b332-531f1bed60ed",
   "metadata": {},
   "outputs": [
    {
     "name": "stdout",
     "output_type": "stream",
     "text": [
      "[ 100 -100    2    8    0    3    3    1    8    2    7    0    5    9\n",
      "    6    1   10    7   10    5    9    2    2    0    9    3    9    0\n",
      "    1    3    9    7   10    3   10    1   10    3    8    0    7    7\n",
      "    7    5    9    0    6    2    7    5    3    3   10    7    6    5\n",
      "    4    7    5    5    7    9    6    3    7    9    1    1    7    7\n",
      "    8    3    4   10    5    3    9    7    6    6    9    9    2    1\n",
      "    6    1    9    1    3    2    0    9    9    0    4   10    5   10\n",
      "   10    3    2    9    1    4    0    2    0    0    9    7    4    2\n",
      "    8   10   10    6    5    4    1    5    9    3    9    4    0   10\n",
      "    3    6    2    3    7    7    8    1    2    6   10   10    3    2\n",
      "    1    5    0    6    5    6    3    5    8    5    4    0    7    7\n",
      "    9    8    7   10    4    7   10    9    2    7    2    9    5    2\n",
      "    6    3    3   10    0   10    3    5    6    3    2    9    8    1\n",
      "    6    6    0    1    0    3    2    9    8    5   10    5    8    3\n",
      "    9    0    4    7    6    5    8   10    4   10    9    2    0    8\n",
      "    9    4    2   10    1    0    2    3    5    6    8    0    1    1\n",
      "    5    0   10    6    3    7    8    4    7    2    9    6    8    5\n",
      "    8    7    5    4    7    9    3   10    5    5    5    1    1    3\n",
      "    8    7    1    8    0    2    9    0    2    2    7    8    4    1\n",
      "    8    4    8    0    5    1    6    4    5    3    6    0    0    1\n",
      "    3    9    1   10    1    8   10    2    5    5    5    8    4    2\n",
      "   10    0    4    6    5    6    4    3    6    4    4    5    7    2\n",
      "    6    9    1    4    8    3    9    9    0    2    2    1    9    3\n",
      "    7    8    7    7    9    0    8    3    4    1    5    8    9    9\n",
      "    9    4    1    6    2    7    5    2    2   10    4    1    7    9\n",
      "    7    2    0    9    0   10    6    6    5    7    1    8    5    8\n",
      "    4    5    6    7    0    4   10    9    8    8    6    4    1    3\n",
      "    3    0    5    8    0    3    5    1   10    6    9    1   10    2\n",
      "    4    4    5    6    1    7    0    8    5    4   10    8    7    7\n",
      "    7   10    7    2    2   10   10    2    8    6    3    0    1    5\n",
      "    9    8    2   10    4    3   10    1    7    5    0    3   10    5\n",
      "    9    7    3    2    2    0    3    5   10    7    4    9    2    4\n",
      "    7    8    0    3    4    8    7    8    7    6    5   10    8    6\n",
      "    5    2    1    6    6    7   10    1    5    8    5    9    4    3\n",
      "    3    4    8    1    3    1    8    5    6    3    3    9    9    4\n",
      "    2    9    7    9    9    2    8    4   10    9    5    3    6    2\n",
      "    6    1    5    7    2   10    7    6    4    2    5    8    1    9\n",
      "    7    6    1    7    8    3    9    9    9    3   10    1    2    8\n",
      "   10    3    3    3    4    4    4    4   10   10    2    8    8    5\n",
      "    3    3    3    1    0    4   10    0    9    3    3   10    5    0\n",
      "    7   10    5    5    9    4    5    6    5    7    2    0    6    4\n",
      "    6    5    6    8    3    7    4    8    3    8    1    2    3   10\n",
      "    3    1    3    9    7    4    7    0    5    0    1    0    5    5\n",
      "    8    8    7    7    2    8    0    0    0    4    1    8   10    6\n",
      "    1    6    5    5    6   10    8    9   10    9    4    8    9    0\n",
      "    9    6    5    1   10    3    7    1    9    3    7    8    4    8\n",
      "    2    9    9    8    9    8    4    6    8    7    9   10   10   10\n",
      "    9    8   10    1    8    6    3    6    7    6    0   10    8    2\n",
      "    8    5    5    2    2    3    3    7    8    7    0    6   10    4\n",
      "    3    1    9    7    5    6    7    9    4    2    4    3   10    3\n",
      "    0    1    1    7   10    5    8    2    2    5    8    3    4    7\n",
      "   10    7    4    2    0    5    8    6    1    0    2    7    8    1\n",
      "    2    2    8    8    3    2    7   10    0    4    7    8    0    1\n",
      "    3   10    6    6    0    8    1    3    6    0    5    8    2    1\n",
      "   10    5    5    9    6    8    8    0   10    8    2    6    2    1\n",
      "    3    5    4    2    8    1    8    1    6    8    4    3    2    1\n",
      "    2    0   10    8    2    3    0    0    0   10   10   10    7    1\n",
      "    4    5    6    3    8   10    1    3    9    7    1    9    8    1\n",
      "    8    4    0    0    9    9   10    8    1    4    1    8    4    6\n",
      "    2    6    7    3    3    6    0    1    0    5    2    3    4    4\n",
      "    5    7    1    4   10    6    4    1    6    4    0    5    3    8\n",
      "    9   10   10    1    2    6    9   10    1    9    3    2    6    7\n",
      "    3    5    9    4    0    8    6    2    8    0    2    5    4    0\n",
      "    9    9   10    8    2    2    7    1    2   10    6    7    5    2\n",
      "   10    8    2    8    0    5    9    3   10    1    6    8    2    9\n",
      "    6    1    7    3    3    0    9    9    4    1    4    5    8    4\n",
      "    0   10    8    2    9    4    5    0    0    9   10    4    6    3\n",
      "    0    2    7    0    8    3    7    0    3    6    2    3    0    1\n",
      "    4    7    3   10    6    7    8    4    0   10    5    8    4    0\n",
      "   10    9    9    5    4    3   10    1   10    5    1    7    0    5\n",
      "    8    8    3    6    8    6    6    7    8    0    4    7    3    2\n",
      "    3    4    7    7    9    1]\n"
     ]
    }
   ],
   "source": [
    "import numpy as np\n",
    "import pandas as pd\n",
    "\n",
    "data = np.random.randint(low=0, high=11, size=1000)\n",
    "\n",
    "#valores atípicos\n",
    "data[0] = 100\n",
    "data[1] = -100\n",
    "\n",
    "print(data)\n"
   ]
  },
  {
   "cell_type": "code",
   "execution_count": 3,
   "id": "2b27fb95-9200-4b43-b2a5-887e92a2694f",
   "metadata": {},
   "outputs": [
    {
     "name": "stdout",
     "output_type": "stream",
     "text": [
      "6.0\n"
     ]
    }
   ],
   "source": [
    "q1 = np.percentile(data, 25)\n",
    "q3 = np.percentile(data, 75)\n",
    "IQR = q3-q1\n",
    "print(IQR)"
   ]
  },
  {
   "cell_type": "code",
   "execution_count": 5,
   "id": "686ba70d-b582-4893-b1d4-483e7597ac9b",
   "metadata": {},
   "outputs": [
    {
     "name": "stdout",
     "output_type": "stream",
     "text": [
      "-7.0\n",
      "17.0\n"
     ]
    }
   ],
   "source": [
    "limite_inferior = q1 - (1.5 * IQR)\n",
    "limite_superior = q3 + (1.5 * IQR)\n",
    "\n",
    "print(limite_inferior)\n",
    "print(limite_superior)"
   ]
  },
  {
   "cell_type": "code",
   "execution_count": 7,
   "id": "f41b0a7a-901f-4a0b-b4ea-86264db08b19",
   "metadata": {},
   "outputs": [
    {
     "name": "stdout",
     "output_type": "stream",
     "text": [
      "(array([0, 1], dtype=int64),)\n"
     ]
    }
   ],
   "source": [
    "outliers = np.where( (data<limite_inferior) | (data>limite_superior))\n",
    "print(outliers)"
   ]
  },
  {
   "cell_type": "code",
   "execution_count": null,
   "id": "fb2935c6-1e34-4e11-ae5f-3856fe71c122",
   "metadata": {},
   "outputs": [],
   "source": []
  }
 ],
 "metadata": {
  "kernelspec": {
   "display_name": "Python 3 (ipykernel)",
   "language": "python",
   "name": "python3"
  },
  "language_info": {
   "codemirror_mode": {
    "name": "ipython",
    "version": 3
   },
   "file_extension": ".py",
   "mimetype": "text/x-python",
   "name": "python",
   "nbconvert_exporter": "python",
   "pygments_lexer": "ipython3",
   "version": "3.12.4"
  }
 },
 "nbformat": 4,
 "nbformat_minor": 5
}
