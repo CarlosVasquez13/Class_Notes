{
 "cells": [
  {
   "cell_type": "code",
   "execution_count": 1,
   "id": "b18ac556-7505-4495-89c2-94dd98f29285",
   "metadata": {},
   "outputs": [
    {
     "data": {
      "text/html": [
       "<div>\n",
       "<style scoped>\n",
       "    .dataframe tbody tr th:only-of-type {\n",
       "        vertical-align: middle;\n",
       "    }\n",
       "\n",
       "    .dataframe tbody tr th {\n",
       "        vertical-align: top;\n",
       "    }\n",
       "\n",
       "    .dataframe thead th {\n",
       "        text-align: right;\n",
       "    }\n",
       "</style>\n",
       "<table border=\"1\" class=\"dataframe\">\n",
       "  <thead>\n",
       "    <tr style=\"text-align: right;\">\n",
       "      <th></th>\n",
       "      <th>age</th>\n",
       "      <th>sex</th>\n",
       "      <th>bmi</th>\n",
       "      <th>children</th>\n",
       "      <th>smoker</th>\n",
       "      <th>region</th>\n",
       "      <th>charges</th>\n",
       "    </tr>\n",
       "  </thead>\n",
       "  <tbody>\n",
       "    <tr>\n",
       "      <th>0</th>\n",
       "      <td>19</td>\n",
       "      <td>female</td>\n",
       "      <td>27.900</td>\n",
       "      <td>0</td>\n",
       "      <td>yes</td>\n",
       "      <td>southwest</td>\n",
       "      <td>16884.92400</td>\n",
       "    </tr>\n",
       "    <tr>\n",
       "      <th>1</th>\n",
       "      <td>18</td>\n",
       "      <td>male</td>\n",
       "      <td>33.770</td>\n",
       "      <td>1</td>\n",
       "      <td>no</td>\n",
       "      <td>southeast</td>\n",
       "      <td>1725.55230</td>\n",
       "    </tr>\n",
       "    <tr>\n",
       "      <th>2</th>\n",
       "      <td>28</td>\n",
       "      <td>male</td>\n",
       "      <td>33.000</td>\n",
       "      <td>3</td>\n",
       "      <td>no</td>\n",
       "      <td>southeast</td>\n",
       "      <td>4449.46200</td>\n",
       "    </tr>\n",
       "    <tr>\n",
       "      <th>3</th>\n",
       "      <td>33</td>\n",
       "      <td>male</td>\n",
       "      <td>22.705</td>\n",
       "      <td>0</td>\n",
       "      <td>no</td>\n",
       "      <td>northwest</td>\n",
       "      <td>21984.47061</td>\n",
       "    </tr>\n",
       "    <tr>\n",
       "      <th>4</th>\n",
       "      <td>32</td>\n",
       "      <td>male</td>\n",
       "      <td>28.880</td>\n",
       "      <td>0</td>\n",
       "      <td>no</td>\n",
       "      <td>northwest</td>\n",
       "      <td>3866.85520</td>\n",
       "    </tr>\n",
       "  </tbody>\n",
       "</table>\n",
       "</div>"
      ],
      "text/plain": [
       "   age     sex     bmi  children smoker     region      charges\n",
       "0   19  female  27.900         0    yes  southwest  16884.92400\n",
       "1   18    male  33.770         1     no  southeast   1725.55230\n",
       "2   28    male  33.000         3     no  southeast   4449.46200\n",
       "3   33    male  22.705         0     no  northwest  21984.47061\n",
       "4   32    male  28.880         0     no  northwest   3866.85520"
      ]
     },
     "execution_count": 1,
     "metadata": {},
     "output_type": "execute_result"
    }
   ],
   "source": [
    "import pandas as pd\n",
    "\n",
    "df_datos = pd.read_csv('insurance.csv')\n",
    "df_datos.head()"
   ]
  },
  {
   "cell_type": "code",
   "execution_count": 3,
   "id": "39a81f07-5f8f-441c-ae71-d071b6114c15",
   "metadata": {},
   "outputs": [
    {
     "name": "stdout",
     "output_type": "stream",
     "text": [
      "11899.625365\n"
     ]
    }
   ],
   "source": [
    "q1 = df_datos['charges'].quantile(0.25)\n",
    "q3 = df_datos['charges'].quantile(0.75)\n",
    "iqr = q3-q1\n",
    "print(iqr)"
   ]
  },
  {
   "cell_type": "code",
   "execution_count": 5,
   "id": "ac55e2e1-2eb2-4e3b-beb2-10d5621f1ea2",
   "metadata": {},
   "outputs": [
    {
     "name": "stdout",
     "output_type": "stream",
     "text": [
      "-13109.1508975\n",
      "34489.350562499996\n"
     ]
    }
   ],
   "source": [
    "limite_inferior = q1 - (1.5 *iqr)\n",
    "limite_superior = q3 + (1.5 *iqr)\n",
    "\n",
    "print(limite_inferior)\n",
    "print(limite_superior)"
   ]
  },
  {
   "cell_type": "code",
   "execution_count": 9,
   "id": "0fccf416-3cef-4b1c-84c3-56b184191641",
   "metadata": {},
   "outputs": [
    {
     "name": "stdout",
     "output_type": "stream",
     "text": [
      "      age     sex     bmi  children smoker     region      charges\n",
      "14     27    male  42.130         0    yes  southeast  39611.75770\n",
      "19     30    male  35.300         0    yes  southwest  36837.46700\n",
      "23     34  female  31.920         1    yes  northeast  37701.87680\n",
      "29     31    male  36.300         2    yes  southwest  38711.00000\n",
      "30     22    male  35.600         0    yes  southwest  35585.57600\n",
      "...   ...     ...     ...       ...    ...        ...          ...\n",
      "1300   45    male  30.360         0    yes  southeast  62592.87309\n",
      "1301   62    male  30.875         3    yes  northwest  46718.16325\n",
      "1303   43    male  27.800         0    yes  southwest  37829.72420\n",
      "1313   19  female  34.700         2    yes  southwest  36397.57600\n",
      "1323   42  female  40.370         2    yes  southeast  43896.37630\n",
      "\n",
      "[139 rows x 7 columns]\n"
     ]
    }
   ],
   "source": [
    "df = df_datos[ (df_datos['charges'] < limite_inferior) | (df_datos['charges'] > limite_superior) ]\n",
    "print(df)"
   ]
  },
  {
   "cell_type": "code",
   "execution_count": null,
   "id": "8b16cc15-37f1-4902-8c75-b29ba6cc5d20",
   "metadata": {},
   "outputs": [],
   "source": []
  }
 ],
 "metadata": {
  "kernelspec": {
   "display_name": "Python 3 (ipykernel)",
   "language": "python",
   "name": "python3"
  },
  "language_info": {
   "codemirror_mode": {
    "name": "ipython",
    "version": 3
   },
   "file_extension": ".py",
   "mimetype": "text/x-python",
   "name": "python",
   "nbconvert_exporter": "python",
   "pygments_lexer": "ipython3",
   "version": "3.12.4"
  }
 },
 "nbformat": 4,
 "nbformat_minor": 5
}
