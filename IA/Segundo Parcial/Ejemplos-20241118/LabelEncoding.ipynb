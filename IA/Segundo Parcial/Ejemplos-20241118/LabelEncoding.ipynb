{
 "cells": [
  {
   "cell_type": "code",
   "execution_count": 3,
   "id": "9cd5fd2a-c74f-41f0-90a9-ab22638edea6",
   "metadata": {},
   "outputs": [
    {
     "name": "stdout",
     "output_type": "stream",
     "text": [
      "   id  categoria\n",
      "0   1          0\n",
      "1   2          1\n",
      "2   3          2\n",
      "3   4          0\n",
      "4   5          2\n"
     ]
    }
   ],
   "source": [
    "import pandas as pd\n",
    "\n",
    "df = pd.DataFrame({\n",
    "  'id': [1, 2, 3, 4, 5],\n",
    "  'categoria': ['Baja', 'Media', 'Alta', 'Baja', 'Alta']\n",
    "})\n",
    "\n",
    "#creamos una lista con las categorias ordenadas en su orden relevante\n",
    "orden = ['Baja', 'Media', 'Alta']\n",
    "\n",
    "df['categoria'] = df['categoria'].map({cat: idx for idx, cat in enumerate(orden)})\n",
    "\n",
    "print(df)"
   ]
  },
  {
   "cell_type": "code",
   "execution_count": null,
   "id": "ae0ccfda-7df9-45b0-9d7e-221be845813a",
   "metadata": {},
   "outputs": [],
   "source": []
  },
  {
   "cell_type": "code",
   "execution_count": null,
   "id": "f00eccb4-a975-44f7-8f83-e463651cf30b",
   "metadata": {},
   "outputs": [],
   "source": []
  }
 ],
 "metadata": {
  "kernelspec": {
   "display_name": "Python 3 (ipykernel)",
   "language": "python",
   "name": "python3"
  },
  "language_info": {
   "codemirror_mode": {
    "name": "ipython",
    "version": 3
   },
   "file_extension": ".py",
   "mimetype": "text/x-python",
   "name": "python",
   "nbconvert_exporter": "python",
   "pygments_lexer": "ipython3",
   "version": "3.12.4"
  }
 },
 "nbformat": 4,
 "nbformat_minor": 5
}
