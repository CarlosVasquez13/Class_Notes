{
 "cells": [
  {
   "cell_type": "code",
   "execution_count": 19,
   "id": "891388cc-d4a5-4d8e-8137-d4e02d6ba28b",
   "metadata": {},
   "outputs": [
    {
     "name": "stdout",
     "output_type": "stream",
     "text": [
      "  nombre  marca\n",
      "0  Auto1      3\n",
      "1  Auto2      1\n",
      "2  Auto3      3\n",
      "3  Auto4      0\n",
      "4  Auto5      2\n"
     ]
    }
   ],
   "source": [
    "import pandas as pd\n",
    "from sklearn.preprocessing import LabelEncoder\n",
    "\n",
    "# Crear el DataFrame de ejemplo\n",
    "df = pd.DataFrame({\n",
    "    'nombre': ['Auto1', 'Auto2', 'Auto3', 'Auto4', 'Auto5'],\n",
    "    'marca': ['Toyota', 'Ford', 'Toyota', 'BMW', 'Honda']\n",
    "})\n",
    "\n",
    "codificador = LabelEncoder()\n",
    "df['marca'] = codificador.fit_transform(df['marca'])\n",
    "print(df)"
   ]
  },
  {
   "cell_type": "code",
   "execution_count": 17,
   "id": "194f8999-69c7-4447-83c5-b0f39615cb86",
   "metadata": {},
   "outputs": [
    {
     "name": "stdout",
     "output_type": "stream",
     "text": [
      "  nombre  marca_BMW  marca_Ford  marca_Honda  marca_Toyota\n",
      "0  Auto1          0           0            0             1\n",
      "1  Auto2          0           1            0             0\n",
      "2  Auto3          0           0            0             1\n",
      "3  Auto4          1           0            0             0\n",
      "4  Auto5          0           0            1             0\n"
     ]
    }
   ],
   "source": [
    "print(df_codificado)"
   ]
  },
  {
   "cell_type": "code",
   "execution_count": null,
   "id": "bb057058-840c-4fa3-a0a5-c07f6a6ea178",
   "metadata": {},
   "outputs": [],
   "source": []
  }
 ],
 "metadata": {
  "kernelspec": {
   "display_name": "Python 3 (ipykernel)",
   "language": "python",
   "name": "python3"
  },
  "language_info": {
   "codemirror_mode": {
    "name": "ipython",
    "version": 3
   },
   "file_extension": ".py",
   "mimetype": "text/x-python",
   "name": "python",
   "nbconvert_exporter": "python",
   "pygments_lexer": "ipython3",
   "version": "3.12.4"
  }
 },
 "nbformat": 4,
 "nbformat_minor": 5
}
