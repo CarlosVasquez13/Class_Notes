{
 "cells": [
  {
   "cell_type": "code",
   "execution_count": 3,
   "id": "1daa6577-4edb-4dc5-8b97-553151eb46b8",
   "metadata": {},
   "outputs": [
    {
     "name": "stdout",
     "output_type": "stream",
     "text": [
      "       type  fixed acidity  volatile acidity  citric acid  residual sugar  \\\n",
      "0     white            7.0             0.270         0.36            20.7   \n",
      "1     white            6.3             0.300         0.34             1.6   \n",
      "2     white            8.1             0.280         0.40             6.9   \n",
      "3     white            7.2             0.230         0.32             8.5   \n",
      "4     white            7.2             0.230         0.32             8.5   \n",
      "...     ...            ...               ...          ...             ...   \n",
      "6492    red            6.2             0.600         0.08             2.0   \n",
      "6493    red            5.9             0.550         0.10             2.2   \n",
      "6494    red            6.3             0.510         0.13             2.3   \n",
      "6495    red            5.9             0.645         0.12             2.0   \n",
      "6496    red            6.0             0.310         0.47             3.6   \n",
      "\n",
      "      chlorides  free sulfur dioxide  total sulfur dioxide  density    pH  \\\n",
      "0         0.045                 45.0                 170.0  1.00100  3.00   \n",
      "1         0.049                 14.0                 132.0  0.99400  3.30   \n",
      "2         0.050                 30.0                  97.0  0.99510  3.26   \n",
      "3         0.058                 47.0                 186.0  0.99560  3.19   \n",
      "4         0.058                 47.0                 186.0  0.99560  3.19   \n",
      "...         ...                  ...                   ...      ...   ...   \n",
      "6492      0.090                 32.0                  44.0  0.99490  3.45   \n",
      "6493      0.062                 39.0                  51.0  0.99512  3.52   \n",
      "6494      0.076                 29.0                  40.0  0.99574  3.42   \n",
      "6495      0.075                 32.0                  44.0  0.99547  3.57   \n",
      "6496      0.067                 18.0                  42.0  0.99549  3.39   \n",
      "\n",
      "      sulphates  alcohol  quality  \n",
      "0          0.45      8.8        6  \n",
      "1          0.49      9.5        6  \n",
      "2          0.44     10.1        6  \n",
      "3          0.40      9.9        6  \n",
      "4          0.40      9.9        6  \n",
      "...         ...      ...      ...  \n",
      "6492       0.58     10.5        5  \n",
      "6493        NaN     11.2        6  \n",
      "6494       0.75     11.0        6  \n",
      "6495       0.71     10.2        5  \n",
      "6496       0.66     11.0        6  \n",
      "\n",
      "[6497 rows x 13 columns]\n"
     ]
    }
   ],
   "source": [
    "import pandas as pd\n",
    "\n",
    "df = pd.read_csv('winequality.csv')\n",
    "print(df)"
   ]
  },
  {
   "cell_type": "code",
   "execution_count": 5,
   "id": "1bded934-c4e7-44fb-8512-df48e907f4a1",
   "metadata": {},
   "outputs": [
    {
     "name": "stdout",
     "output_type": "stream",
     "text": [
      "      type  fixed acidity  volatile acidity  citric acid  residual sugar  \\\n",
      "0        1            7.0             0.270         0.36            20.7   \n",
      "1        1            6.3             0.300         0.34             1.6   \n",
      "2        1            8.1             0.280         0.40             6.9   \n",
      "3        1            7.2             0.230         0.32             8.5   \n",
      "4        1            7.2             0.230         0.32             8.5   \n",
      "...    ...            ...               ...          ...             ...   \n",
      "6492     0            6.2             0.600         0.08             2.0   \n",
      "6493     0            5.9             0.550         0.10             2.2   \n",
      "6494     0            6.3             0.510         0.13             2.3   \n",
      "6495     0            5.9             0.645         0.12             2.0   \n",
      "6496     0            6.0             0.310         0.47             3.6   \n",
      "\n",
      "      chlorides  free sulfur dioxide  total sulfur dioxide  density    pH  \\\n",
      "0         0.045                 45.0                 170.0  1.00100  3.00   \n",
      "1         0.049                 14.0                 132.0  0.99400  3.30   \n",
      "2         0.050                 30.0                  97.0  0.99510  3.26   \n",
      "3         0.058                 47.0                 186.0  0.99560  3.19   \n",
      "4         0.058                 47.0                 186.0  0.99560  3.19   \n",
      "...         ...                  ...                   ...      ...   ...   \n",
      "6492      0.090                 32.0                  44.0  0.99490  3.45   \n",
      "6493      0.062                 39.0                  51.0  0.99512  3.52   \n",
      "6494      0.076                 29.0                  40.0  0.99574  3.42   \n",
      "6495      0.075                 32.0                  44.0  0.99547  3.57   \n",
      "6496      0.067                 18.0                  42.0  0.99549  3.39   \n",
      "\n",
      "      sulphates  alcohol  quality  \n",
      "0          0.45      8.8        6  \n",
      "1          0.49      9.5        6  \n",
      "2          0.44     10.1        6  \n",
      "3          0.40      9.9        6  \n",
      "4          0.40      9.9        6  \n",
      "...         ...      ...      ...  \n",
      "6492       0.58     10.5        5  \n",
      "6493        NaN     11.2        6  \n",
      "6494       0.75     11.0        6  \n",
      "6495       0.71     10.2        5  \n",
      "6496       0.66     11.0        6  \n",
      "\n",
      "[6497 rows x 13 columns]\n"
     ]
    }
   ],
   "source": [
    "df['type'] = df['type'].map({'white':1, 'red':0})\n",
    "\n",
    "print(df)\n",
    "                            "
   ]
  },
  {
   "cell_type": "code",
   "execution_count": null,
   "id": "6f786827-6254-4fff-8fc4-6416a76ffafb",
   "metadata": {},
   "outputs": [],
   "source": []
  }
 ],
 "metadata": {
  "kernelspec": {
   "display_name": "Python 3 (ipykernel)",
   "language": "python",
   "name": "python3"
  },
  "language_info": {
   "codemirror_mode": {
    "name": "ipython",
    "version": 3
   },
   "file_extension": ".py",
   "mimetype": "text/x-python",
   "name": "python",
   "nbconvert_exporter": "python",
   "pygments_lexer": "ipython3",
   "version": "3.12.4"
  }
 },
 "nbformat": 4,
 "nbformat_minor": 5
}
